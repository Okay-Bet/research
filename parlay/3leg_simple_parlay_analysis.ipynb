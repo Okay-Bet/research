{
 "cells": [
  {
   "cell_type": "markdown",
   "id": "88f41b10-b195-4db0-8f79-92b49e1c93db",
   "metadata": {},
   "source": [
    "# Hedging a 3-Leg Parlay Bet in Prediction Markets\n",
    "\n",
    "\n"
   ]
  },
  {
   "cell_type": "code",
   "execution_count": 1,
   "id": "190d410b-ada7-49d2-9225-3bf2b69dce5e",
   "metadata": {},
   "outputs": [],
   "source": [
    "# Import necessary libraries\n",
    "import numpy as np\n",
    "import pandas as pd\n",
    "\n",
    "# Set display options\n",
    "pd.set_option('display.precision', 4)"
   ]
  },
  {
   "cell_type": "markdown",
   "id": "20cca136-df00-4a5b-8993-22e98ba8245f",
   "metadata": {},
   "source": [
    "## Introduction\n",
    "\n",
    "In this notebook, we will explore how a Liquidity Provider (LP) can hedge a 3-leg parlay bet in a prediction market. The goal is to:\n",
    "\n",
    "- Limit the LP's potential losses.\n",
    "- Reflect parlay bets in market liquidity.\n",
    "- Achieve expected profitability by applying a margin to the odds.\n",
    "\n",
    "## Parlay Bet Details\n",
    "\n",
    "- Number of Legs: 3 events\n",
    "- Probability of Each Event: 50% (independent events)\n",
    "- User's Wager: $1\n",
    "- Margin Applied: We will apply a margin to adjust the odds."
   ]
  },
  {
   "cell_type": "code",
   "execution_count": 20,
   "id": "e9481bbe-fe48-4f20-b129-c90c481b09c0",
   "metadata": {},
   "outputs": [
    {
     "name": "stdout",
     "output_type": "stream",
     "text": [
      "True odds for each event: 2.00x\n"
     ]
    }
   ],
   "source": [
    "# True probability of each event\n",
    "p_event = 0.5\n",
    "\n",
    "# True odds for each event\n",
    "odds_true = 1 / p_event\n",
    "print(f\"True odds for each event: {odds_true:.2f}x\")\n"
   ]
  },
  {
   "cell_type": "code",
   "execution_count": 21,
   "id": "4d98195b-8175-48d6-a67b-81508a9757f4",
   "metadata": {},
   "outputs": [
    {
     "name": "stdout",
     "output_type": "stream",
     "text": [
      "Combined true odds for the parlay: 8.00x\n"
     ]
    }
   ],
   "source": [
    "# Combined probability of winning the parlay\n",
    "p_parlay = p_event ** 3  # Since events are independent\n",
    "\n",
    "# Combined true odds for the parlay\n",
    "odds_parlay_true = 1 / p_parlay\n",
    "print(f\"Combined true odds for the parlay: {odds_parlay_true:.2f}x\")\n"
   ]
  },
  {
   "cell_type": "markdown",
   "id": "4cf94e4f-0613-4f8f-8cea-5652ce6b2545",
   "metadata": {},
   "source": [
    "## Adjusting Odds with Margin\n",
    "\n",
    "We will apply a margin (overround) to the odds to ensure expected profitability.\n",
    "Applying Margin to Individual Event Odds\n",
    "\n",
    "Let's assume a margin of 5%."
   ]
  },
  {
   "cell_type": "code",
   "execution_count": 84,
   "id": "95844c01-b317-4c9d-8a41-47f9ac53c1b5",
   "metadata": {},
   "outputs": [
    {
     "name": "stdout",
     "output_type": "stream",
     "text": [
      "Adjusted odds for each event: 1.9048x\n"
     ]
    }
   ],
   "source": [
    "# Margin to apply (5%)\n",
    "margin = 0.05\n",
    "\n",
    "# Adjusted probability for each event\n",
    "p_event_adjusted = p_event * (1 + margin)\n",
    "\n",
    "# Adjusted odds for each event\n",
    "odds_event_adjusted = 1 / p_event_adjusted\n",
    "print(f\"Adjusted odds for each event: {odds_event_adjusted:.4f}x\")\n"
   ]
  },
  {
   "cell_type": "code",
   "execution_count": 85,
   "id": "42a62b72-76e5-4224-8949-65681a04a357",
   "metadata": {},
   "outputs": [
    {
     "name": "stdout",
     "output_type": "stream",
     "text": [
      "Adjusted odds for the parlay: 6.9107x\n"
     ]
    }
   ],
   "source": [
    "# Combined adjusted odds for the parlay\n",
    "odds_parlay_adjusted = odds_event_adjusted ** 3\n",
    "print(f\"Adjusted odds for the parlay: {odds_parlay_adjusted:.4f}x\")\n"
   ]
  },
  {
   "cell_type": "code",
   "execution_count": 86,
   "id": "cb1cf143-95fa-4328-a962-2177e79409fc",
   "metadata": {},
   "outputs": [
    {
     "name": "stdout",
     "output_type": "stream",
     "text": [
      "Potential payout to user: $6.9107\n"
     ]
    }
   ],
   "source": [
    "# User's potential payout\n",
    "payout_user = odds_parlay_adjusted * 1  # Wager is $1\n",
    "print(f\"Potential payout to user: ${payout_user:.4f}\")\n"
   ]
  },
  {
   "cell_type": "markdown",
   "id": "88e41922-5f7e-4f07-84fd-f90297cc9c45",
   "metadata": {},
   "source": [
    "## LP's Hedging Strategy\n",
    "\n",
    "The LP hedges by placing bets on the same outcomes in the underlying markets at true odds.\n"
   ]
  },
  {
   "cell_type": "markdown",
   "id": "6def8686-4615-40fd-858c-43a0c8f5733a",
   "metadata": {},
   "source": [
    "## Possible Outcome Scenarios\n",
    "\n",
    "There are 8 possible outcomes for the three events.\n",
    "Generating \n",
    "\n",
    "### All Possible Outcomes"
   ]
  },
  {
   "cell_type": "code",
   "execution_count": 87,
   "id": "ed386d64-5ffb-455c-a40a-cddb19927f1f",
   "metadata": {},
   "outputs": [
    {
     "data": {
      "text/html": [
       "<div>\n",
       "<style scoped>\n",
       "    .dataframe tbody tr th:only-of-type {\n",
       "        vertical-align: middle;\n",
       "    }\n",
       "\n",
       "    .dataframe tbody tr th {\n",
       "        vertical-align: top;\n",
       "    }\n",
       "\n",
       "    .dataframe thead th {\n",
       "        text-align: right;\n",
       "    }\n",
       "</style>\n",
       "<table border=\"1\" class=\"dataframe\">\n",
       "  <thead>\n",
       "    <tr style=\"text-align: right;\">\n",
       "      <th></th>\n",
       "      <th>Event 1</th>\n",
       "      <th>Event 2</th>\n",
       "      <th>Event 3</th>\n",
       "      <th>Probability</th>\n",
       "    </tr>\n",
       "  </thead>\n",
       "  <tbody>\n",
       "    <tr>\n",
       "      <th>0</th>\n",
       "      <td>Y</td>\n",
       "      <td>Y</td>\n",
       "      <td>Y</td>\n",
       "      <td>0.125</td>\n",
       "    </tr>\n",
       "    <tr>\n",
       "      <th>1</th>\n",
       "      <td>Y</td>\n",
       "      <td>Y</td>\n",
       "      <td>N</td>\n",
       "      <td>0.125</td>\n",
       "    </tr>\n",
       "    <tr>\n",
       "      <th>2</th>\n",
       "      <td>Y</td>\n",
       "      <td>N</td>\n",
       "      <td>Y</td>\n",
       "      <td>0.125</td>\n",
       "    </tr>\n",
       "    <tr>\n",
       "      <th>3</th>\n",
       "      <td>Y</td>\n",
       "      <td>N</td>\n",
       "      <td>N</td>\n",
       "      <td>0.125</td>\n",
       "    </tr>\n",
       "    <tr>\n",
       "      <th>4</th>\n",
       "      <td>N</td>\n",
       "      <td>Y</td>\n",
       "      <td>Y</td>\n",
       "      <td>0.125</td>\n",
       "    </tr>\n",
       "    <tr>\n",
       "      <th>5</th>\n",
       "      <td>N</td>\n",
       "      <td>Y</td>\n",
       "      <td>N</td>\n",
       "      <td>0.125</td>\n",
       "    </tr>\n",
       "    <tr>\n",
       "      <th>6</th>\n",
       "      <td>N</td>\n",
       "      <td>N</td>\n",
       "      <td>Y</td>\n",
       "      <td>0.125</td>\n",
       "    </tr>\n",
       "    <tr>\n",
       "      <th>7</th>\n",
       "      <td>N</td>\n",
       "      <td>N</td>\n",
       "      <td>N</td>\n",
       "      <td>0.125</td>\n",
       "    </tr>\n",
       "  </tbody>\n",
       "</table>\n",
       "</div>"
      ],
      "text/plain": [
       "  Event 1 Event 2 Event 3  Probability\n",
       "0       Y       Y       Y        0.125\n",
       "1       Y       Y       N        0.125\n",
       "2       Y       N       Y        0.125\n",
       "3       Y       N       N        0.125\n",
       "4       N       Y       Y        0.125\n",
       "5       N       Y       N        0.125\n",
       "6       N       N       Y        0.125\n",
       "7       N       N       N        0.125"
      ]
     },
     "execution_count": 87,
     "metadata": {},
     "output_type": "execute_result"
    }
   ],
   "source": [
    "# Generate all combinations of outcomes (Y for YES, N for NO)\n",
    "outcomes = ['Y', 'N']\n",
    "all_scenarios = pd.DataFrame(\n",
    "    [(a, b, c) for a in outcomes for b in outcomes for c in outcomes],\n",
    "    columns=['Event 1', 'Event 2', 'Event 3']\n",
    ")\n",
    "\n",
    "# Add scenario probabilities (each scenario is equally likely)\n",
    "all_scenarios['Probability'] = 1 / 8  # 8 total scenarios\n",
    "\n",
    "# Display the scenarios\n",
    "all_scenarios\n"
   ]
  },
  {
   "cell_type": "code",
   "execution_count": 88,
   "id": "2a0166cd-177d-4895-976c-e9b6b7cfa567",
   "metadata": {},
   "outputs": [
    {
     "name": "stdout",
     "output_type": "stream",
     "text": [
      "Total hedging cost: $3.00\n",
      "  Event 1 Event 2 Event 3  User Wins Parlay  LP Net Profit/Loss\n",
      "0       Y       Y       Y              True             -2.9107\n",
      "1       Y       Y       N             False              2.0000\n",
      "2       Y       N       Y             False              2.0000\n",
      "3       Y       N       N             False              0.0000\n",
      "4       N       Y       Y             False              2.0000\n",
      "5       N       Y       N             False              0.0000\n",
      "6       N       N       Y             False              0.0000\n",
      "7       N       N       N             False             -2.0000\n"
     ]
    }
   ],
   "source": [
    "# Initialize columns for calculations\n",
    "all_scenarios['User Wins Parlay'] = False\n",
    "all_scenarios['LP Pays User'] = 0.0\n",
    "all_scenarios['LP Receives from User'] = 1.0  # User's wager\n",
    "all_scenarios['LP Hedging Gain/Loss'] = 0.0\n",
    "all_scenarios['LP Net Profit/Loss'] = 0.0\n",
    "\n",
    "# Hedging amount per event\n",
    "hedge_bet_per_event = 1  # $1 on each event\n",
    "\n",
    "# Total hedging cost\n",
    "hedge_total_cost = hedge_bet_per_event * 3\n",
    "print(f\"Total hedging cost: ${hedge_total_cost:.2f}\")\n",
    "\n",
    "# Loop through each scenario to calculate outcomes\n",
    "for idx, row in all_scenarios.iterrows():\n",
    "    events = [row['Event 1'], row['Event 2'], row['Event 3']]\n",
    "    \n",
    "    # Check if user wins the parlay (all events YES)\n",
    "    if events == ['Y', 'Y', 'Y']:\n",
    "        all_scenarios.at[idx, 'User Wins Parlay'] = True\n",
    "        all_scenarios.at[idx, 'LP Pays User'] = payout_user  # LP pays the adjusted payout\n",
    "    \n",
    "    # Calculate LP's hedging gain/loss\n",
    "    hedging_gain = 0.0\n",
    "    for event in events:\n",
    "        if event == 'Y':\n",
    "            # LP wins hedging bet (bet on YES at true odds)\n",
    "            net_gain = (2 * hedge_bet_per_event) - hedge_bet_per_event  # Net gain per event\n",
    "            hedging_gain += net_gain\n",
    "        else:\n",
    "            # LP loses hedging bet\n",
    "            hedging_gain -= hedge_bet_per_event  # Net loss per event\n",
    "    all_scenarios.at[idx, 'LP Hedging Gain/Loss'] = hedging_gain\n",
    "    \n",
    "    # Calculate LP's net profit/loss\n",
    "    lp_inflows = all_scenarios.at[idx, 'LP Receives from User'] + all_scenarios.at[idx, 'LP Hedging Gain/Loss']\n",
    "    lp_outflows = all_scenarios.at[idx, 'LP Pays User']  # Remove hedge_total_cost\n",
    "    all_scenarios.at[idx, 'LP Net Profit/Loss'] = lp_inflows - lp_outflows\n",
    "\n",
    "# Display the updated scenarios with calculations\n",
    "print(all_scenarios[['Event 1', 'Event 2', 'Event 3', 'User Wins Parlay', 'LP Net Profit/Loss']])\n"
   ]
  },
  {
   "cell_type": "markdown",
   "id": "cf36c75d-86fa-465b-9549-62ba498047da",
   "metadata": {},
   "source": [
    "### Calculating LP's Net Profit/Loss in Each Scenario"
   ]
  },
  {
   "cell_type": "markdown",
   "id": "1953cef8-df74-4b77-bd46-6955267761a0",
   "metadata": {},
   "source": [
    "Calculating Expected Profit"
   ]
  },
  {
   "cell_type": "code",
   "execution_count": 89,
   "id": "ef5cadbf-0ffc-4f8b-9b8d-a20051124d6f",
   "metadata": {},
   "outputs": [
    {
     "name": "stdout",
     "output_type": "stream",
     "text": [
      "LP's Expected Profit per $1 wagered: $0.1362\n"
     ]
    }
   ],
   "source": [
    "# Calculate expected profit\n",
    "all_scenarios['Expected Profit'] = all_scenarios['Probability'] * all_scenarios['LP Net Profit/Loss']\n",
    "expected_profit = all_scenarios['Expected Profit'].sum()\n",
    "print(f\"LP's Expected Profit per $1 wagered: ${expected_profit:.4f}\")\n"
   ]
  },
  {
   "cell_type": "markdown",
   "id": "ac399e4f-37e9-4892-800d-dc5414e2ff53",
   "metadata": {},
   "source": [
    "## Capital Requirements\n",
    "\n",
    "### Maximum Potential Loss"
   ]
  },
  {
   "cell_type": "code",
   "execution_count": 90,
   "id": "cc841bb8-2724-4efb-adf3-d75d738eb531",
   "metadata": {},
   "outputs": [
    {
     "name": "stdout",
     "output_type": "stream",
     "text": [
      "Maximum potential loss for LP per $1 wagered: $2.9107\n"
     ]
    }
   ],
   "source": [
    "# Maximum potential loss\n",
    "max_loss = all_scenarios['LP Net Profit/Loss'].min()\n",
    "print(f\"Maximum potential loss for LP per $1 wagered: ${-max_loss:.4f}\")\n"
   ]
  },
  {
   "cell_type": "code",
   "execution_count": null,
   "id": "7e960526-5ae0-46cd-84f4-9215ad8c4d82",
   "metadata": {},
   "outputs": [],
   "source": []
  },
  {
   "cell_type": "code",
   "execution_count": null,
   "id": "44941dc5-0ee8-4902-8461-ee7c7bd01a41",
   "metadata": {},
   "outputs": [],
   "source": []
  }
 ],
 "metadata": {
  "kernelspec": {
   "display_name": "Python 3 (ipykernel)",
   "language": "python",
   "name": "python3"
  },
  "language_info": {
   "codemirror_mode": {
    "name": "ipython",
    "version": 3
   },
   "file_extension": ".py",
   "mimetype": "text/x-python",
   "name": "python",
   "nbconvert_exporter": "python",
   "pygments_lexer": "ipython3",
   "version": "3.12.3"
  }
 },
 "nbformat": 4,
 "nbformat_minor": 5
}
